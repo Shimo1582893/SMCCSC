{
 "cells": [
  {
   "cell_type": "markdown",
   "metadata": {},
   "source": [
    "Here is a notebook for testing palindromes.\n",
    "\n",
    "What is a palindrome?  Look at Wikipedia: https://en.wikipedia.org/wiki/Palindrome\n",
    "\n",
    "Want lots of examples?  Look here: http://www.derf.net/palindromes/old.palindrome.html"
   ]
  },
  {
   "cell_type": "code",
   "execution_count": 1,
   "metadata": {},
   "outputs": [],
   "source": [
    "def is_palindrome(test_string):\n",
    "    \"\"\"\n",
    "    This function checks if the string is a palindrome\n",
    "    \"\"\"\n",
    "    l=len(test_string)\n",
    "    half_way=int(l/2) #This is half way through the string (what if l is odd?)\n",
    "    index=0\n",
    "    while (index<half_way and test_string[index]==test_string[l-index-1]):\n",
    "        index=index+1\n",
    "    return index==half_way #If it made it this far, it is a palindrome"
   ]
  },
  {
   "cell_type": "code",
   "execution_count": 2,
   "metadata": {},
   "outputs": [
    {
     "name": "stdout",
     "output_type": "stream",
     "text": [
      "True\n"
     ]
    }
   ],
   "source": [
    "print(is_palindrome(\"racecar\"))"
   ]
  },
  {
   "cell_type": "code",
   "execution_count": 3,
   "metadata": {},
   "outputs": [
    {
     "name": "stdout",
     "output_type": "stream",
     "text": [
      "False\n"
     ]
    }
   ],
   "source": [
    "print(is_palindrome(\"racingcar\"))"
   ]
  },
  {
   "cell_type": "code",
   "execution_count": 4,
   "metadata": {},
   "outputs": [
    {
     "name": "stdout",
     "output_type": "stream",
     "text": [
      "True\n"
     ]
    }
   ],
   "source": [
    "print(is_palindrome(\"steponnopets\"))"
   ]
  }
 ],
 "metadata": {
  "kernelspec": {
   "display_name": "Python 2",
   "language": "python",
   "name": "python2"
  },
  "language_info": {
   "codemirror_mode": {
    "name": "ipython",
    "version": 2
   },
   "file_extension": ".py",
   "mimetype": "text/x-python",
   "name": "python",
   "nbconvert_exporter": "python",
   "pygments_lexer": "ipython2",
   "version": "2.7.17"
  }
 },
 "nbformat": 4,
 "nbformat_minor": 2
}
